{
 "cells": [
  {
   "cell_type": "code",
   "execution_count": null,
   "id": "7f8ba0e7",
   "metadata": {},
   "outputs": [
    {
     "ename": "AttributeError",
     "evalue": "'Series' object has no attribute 'isnan'",
     "output_type": "error",
     "traceback": [
      "\u001b[0;31m---------------------------------------------------------------------------\u001b[0m",
      "\u001b[0;31mAttributeError\u001b[0m                            Traceback (most recent call last)",
      "\u001b[0;32m/tmp/ipykernel_4053496/1327728394.py\u001b[0m in \u001b[0;36m?\u001b[0;34m()\u001b[0m\n\u001b[1;32m      3\u001b[0m \u001b[0;31m# display(pd.read_parquet('/home/ubuntu/dataraw/us/cube2mat/std_close/2018_7_5.parquet'))\u001b[0m\u001b[0;34m\u001b[0m\u001b[0;34m\u001b[0m\u001b[0m\n\u001b[1;32m      4\u001b[0m \u001b[0;31m# display(pd.read_parquet('/home/ubuntu/dataraw/us/quote/20190701/AAC.parquet'))\u001b[0m\u001b[0;34m\u001b[0m\u001b[0;34m\u001b[0m\u001b[0m\n\u001b[1;32m      5\u001b[0m \u001b[0mdf\u001b[0m \u001b[0;34m=\u001b[0m \u001b[0mpd\u001b[0m\u001b[0;34m.\u001b[0m\u001b[0mread_parquet\u001b[0m\u001b[0;34m(\u001b[0m\u001b[0;34m'/home/ubuntu/dataraw/us/quote_features/quote_spread_all/2019_12_5.parquet'\u001b[0m\u001b[0;34m)\u001b[0m\u001b[0;34m\u001b[0m\u001b[0;34m\u001b[0m\u001b[0m\n\u001b[1;32m      6\u001b[0m \u001b[0;32mimport\u001b[0m \u001b[0mnumpy\u001b[0m \u001b[0;32mas\u001b[0m \u001b[0mnp\u001b[0m\u001b[0;34m\u001b[0m\u001b[0;34m\u001b[0m\u001b[0m\n\u001b[0;32m----> 7\u001b[0;31m \u001b[0mdisplay\u001b[0m\u001b[0;34m(\u001b[0m\u001b[0mdf\u001b[0m\u001b[0;34m.\u001b[0m\u001b[0mloc\u001b[0m\u001b[0;34m[\u001b[0m\u001b[0mdf\u001b[0m\u001b[0;34m[\u001b[0m\u001b[0;34m'value'\u001b[0m\u001b[0;34m]\u001b[0m\u001b[0;34m.\u001b[0m\u001b[0misnan\u001b[0m\u001b[0;34m(\u001b[0m\u001b[0;34m)\u001b[0m\u001b[0;34m]\u001b[0m\u001b[0;34m)\u001b[0m\u001b[0;34m\u001b[0m\u001b[0;34m\u001b[0m\u001b[0m\n\u001b[0m\u001b[1;32m      8\u001b[0m \u001b[0;31m# display(df.loc[df['symbol'] == 'AAC'])\u001b[0m\u001b[0;34m\u001b[0m\u001b[0;34m\u001b[0m\u001b[0m\n",
      "\u001b[0;32m~/.local/lib/python3.10/site-packages/pandas/core/generic.py\u001b[0m in \u001b[0;36m?\u001b[0;34m(self, name)\u001b[0m\n\u001b[1;32m   6314\u001b[0m             \u001b[0;32mand\u001b[0m \u001b[0mname\u001b[0m \u001b[0;32mnot\u001b[0m \u001b[0;32min\u001b[0m \u001b[0mself\u001b[0m\u001b[0;34m.\u001b[0m\u001b[0m_accessors\u001b[0m\u001b[0;34m\u001b[0m\u001b[0;34m\u001b[0m\u001b[0m\n\u001b[1;32m   6315\u001b[0m             \u001b[0;32mand\u001b[0m \u001b[0mself\u001b[0m\u001b[0;34m.\u001b[0m\u001b[0m_info_axis\u001b[0m\u001b[0;34m.\u001b[0m\u001b[0m_can_hold_identifiers_and_holds_name\u001b[0m\u001b[0;34m(\u001b[0m\u001b[0mname\u001b[0m\u001b[0;34m)\u001b[0m\u001b[0;34m\u001b[0m\u001b[0;34m\u001b[0m\u001b[0m\n\u001b[1;32m   6316\u001b[0m         ):\n\u001b[1;32m   6317\u001b[0m             \u001b[0;32mreturn\u001b[0m \u001b[0mself\u001b[0m\u001b[0;34m[\u001b[0m\u001b[0mname\u001b[0m\u001b[0;34m]\u001b[0m\u001b[0;34m\u001b[0m\u001b[0;34m\u001b[0m\u001b[0m\n\u001b[0;32m-> 6318\u001b[0;31m         \u001b[0;32mreturn\u001b[0m \u001b[0mobject\u001b[0m\u001b[0;34m.\u001b[0m\u001b[0m__getattribute__\u001b[0m\u001b[0;34m(\u001b[0m\u001b[0mself\u001b[0m\u001b[0;34m,\u001b[0m \u001b[0mname\u001b[0m\u001b[0;34m)\u001b[0m\u001b[0;34m\u001b[0m\u001b[0;34m\u001b[0m\u001b[0m\n\u001b[0m",
      "\u001b[0;31mAttributeError\u001b[0m: 'Series' object has no attribute 'isnan'"
     ]
    }
   ],
   "source": [
    "import pandas as pd\n",
    "# display(pd.read_parquet('/home/ubuntu/dataraw/us/cube2mat_new/std_close/2018_7_5.parquet'))\n",
    "# display(pd.read_parquet('/home/ubuntu/dataraw/us/cube2mat/std_close/2018_7_5.parquet'))\n",
    "# display(pd.read_parquet('/home/ubuntu/dataraw/us/quote/20190701/AAC.parquet'))\n",
    "df = pd.read_parquet('/home/ubuntu/dataraw/us/quote_features/quote_spread_all/2019_12_5.parquet')\n",
    "import numpy as np\n",
    "# display(df.loc[df['symbol'] == 'AAC'])"
   ]
  },
  {
   "cell_type": "code",
   "execution_count": null,
   "id": "caed32ea",
   "metadata": {},
   "outputs": [],
   "source": [
    "你好，我现在来要求你帮我写一些代码，先读取一个参考的代码如下，之后你需要仿照这个代码的格式写新的代码，实际当中你可以用到的数据字段，有open high low close vwap volume time n(number of trade),学习后等待我的指令：# features/std_close.py \n",
    "from __future__ import annotations\n",
    "import datetime as dt\n",
    "import pandas as pd\n",
    "from feature_base import BaseFeature, FeatureContext\n",
    "\n",
    "class StdCloseFeature(BaseFeature):\n",
    "    \"\"\"\n",
    "    09:30–15:59(交易所本地时区，默认 America/New_York) 内，\n",
    "    按 symbol 计算 close 的标准差；若该 symbol 当日有效点 < 3，则置为 NaN。\n",
    "    输出列至少包含: ['symbol', 'value']。\n",
    "    \"\"\"\n",
    "    name = \"std_close\"\n",
    "    description = \"Intraday close std between 09:30–15:59; NaN if <3 ticks.\"\n",
    "    required_full_columns = (\"symbol\", \"time\", \"close\")\n",
    "    required_pv_columns = (\"symbol\",)\n",
    "\n",
    "    def process_date(self, ctx: FeatureContext, date: dt.date):\n",
    "        # 读取当日全量与样本\n",
    "        df_full = self.load_full(ctx, date, columns=list(self.required_full_columns))\n",
    "        sample  = self.load_pv(ctx, date, columns=list(self.required_pv_columns))\n",
    "        if df_full is None or sample is None:\n",
    "            return None\n",
    "\n",
    "        if df_full.empty or sample.empty:\n",
    "            out = sample[[\"symbol\"]].copy()\n",
    "            out[\"value\"] = pd.NA\n",
    "            return out\n",
    "\n",
    "        # 统一到交易所时区并设为索引\n",
    "        df_full = self.ensure_et_index(df_full, time_col=\"time\", tz=ctx.tz)\n",
    "\n",
    "        # 交易时段筛选\n",
    "        df_intraday = df_full.between_time(\"09:30\", \"15:59\")\n",
    "        if df_intraday.empty:\n",
    "            out = sample[[\"symbol\"]].copy()\n",
    "            out[\"value\"] = pd.NA\n",
    "            return out\n",
    "\n",
    "        # 只保留样本内 symbol\n",
    "        syms = set(sample[\"symbol\"].unique())\n",
    "        df_intraday = df_intraday[df_intraday[\"symbol\"].isin(syms)]\n",
    "        if df_intraday.empty:\n",
    "            out = sample[[\"symbol\"]].copy()\n",
    "            out[\"value\"] = pd.NA\n",
    "            return out\n",
    "\n",
    "        # close 转数值并去 NaN\n",
    "        df_intraday = df_intraday.copy()\n",
    "        df_intraday[\"close\"] = pd.to_numeric(df_intraday[\"close\"], errors=\"coerce\")\n",
    "        df_intraday = df_intraday.dropna(subset=[\"close\"])\n",
    "        if df_intraday.empty:\n",
    "            out = sample[[\"symbol\"]].copy()\n",
    "            out[\"value\"] = pd.NA\n",
    "            return out\n",
    "\n",
    "        # 兼容所有 pandas：std + count，再把 n<3 的设为 NaN\n",
    "        g = df_intraday.groupby(\"symbol\")[\"close\"]\n",
    "        stats = g.agg(n=\"count\", std=\"std\")\n",
    "        vol = stats[\"std\"].where(stats[\"n\"] >= 3)\n",
    "\n",
    "        # 按样本顺序对齐输出\n",
    "        out = sample[[\"symbol\"]].copy()\n",
    "        out[\"value\"] = out[\"symbol\"].map(vol)\n",
    "        return out\n",
    "\n",
    "# 供 runner 直接加载\n",
    "feature = StdCloseFeature()\n"
   ]
  }
 ],
 "metadata": {
  "kernelspec": {
   "display_name": "Python 3",
   "language": "python",
   "name": "python3"
  },
  "language_info": {
   "codemirror_mode": {
    "name": "ipython",
    "version": 3
   },
   "file_extension": ".py",
   "mimetype": "text/x-python",
   "name": "python",
   "nbconvert_exporter": "python",
   "pygments_lexer": "ipython3",
   "version": "3.10.12"
  }
 },
 "nbformat": 4,
 "nbformat_minor": 5
}
